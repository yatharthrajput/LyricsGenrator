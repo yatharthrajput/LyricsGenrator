{
 "cells": [
  {
   "cell_type": "code",
   "execution_count": 88,
   "metadata": {},
   "outputs": [],
   "source": [
    "text=\"hello hello world world world hello hello\"\n",
    "def create_table(text,k=4):\n",
    "    T={}\n",
    "    for i in range(len(text)-k):\n",
    "        X=text[i:i+k]\n",
    "        Y=text[i+k]\n",
    "        if X in T:\n",
    "            if Y in T[X]:\n",
    "                T[X][Y]+=1\n",
    "            else:\n",
    "                T[X][Y]=1\n",
    "        else:\n",
    "            T[X]={\n",
    "            Y:1\n",
    "        }\n",
    "        \n",
    "    return T  "
   ]
  },
  {
   "cell_type": "code",
   "execution_count": 89,
   "metadata": {},
   "outputs": [
    {
     "data": {
      "text/plain": [
       "{'hell': {'o': 4},\n",
       " 'ello': {' ': 3},\n",
       " 'llo ': {'h': 2, 'w': 1},\n",
       " 'lo h': {'e': 2},\n",
       " 'o he': {'l': 2},\n",
       " ' hel': {'l': 3},\n",
       " 'lo w': {'o': 1},\n",
       " 'o wo': {'r': 1},\n",
       " ' wor': {'l': 3},\n",
       " 'worl': {'d': 3},\n",
       " 'orld': {' ': 3},\n",
       " 'rld ': {'w': 2, 'h': 1},\n",
       " 'ld w': {'o': 2},\n",
       " 'd wo': {'r': 2},\n",
       " 'ld h': {'e': 1},\n",
       " 'd he': {'l': 1}}"
      ]
     },
     "execution_count": 89,
     "metadata": {},
     "output_type": "execute_result"
    }
   ],
   "source": [
    "create_table(text)"
   ]
  },
  {
   "cell_type": "code",
   "execution_count": 72,
   "metadata": {},
   "outputs": [],
   "source": [
    "text=\"hello hello world world world hello hello\"\n",
    "def create_table(text,k=3):\n",
    "    T={}\n",
    "    for i in range(len(text)-k):\n",
    "        X=text[i:i+k]\n",
    "        Y=text[i+k]\n",
    "        if X in T:\n",
    "            if Y in T[X]:\n",
    "                T[X][Y]+=1\n",
    "            else:\n",
    "                T[X][Y]=1\n",
    "        else:\n",
    "             T[X]={\n",
    "            Y:1\n",
    "         }\n",
    "        \n",
    "    for X in T:\n",
    "        total=sum(T[X].values())\n",
    "        for Y in T[X]:\n",
    "            T[X][Y] /= total\n",
    "    return T"
   ]
  },
  {
   "cell_type": "code",
   "execution_count": 81,
   "metadata": {},
   "outputs": [],
   "source": [
    "import random\n",
    "def sampleNext(inp,T):\n",
    "    inp=inp[-3:]\n",
    "    if inp in T:\n",
    "        outcomes=list(T[inp].keys())\n",
    "        weights=list(T[inp].values())\n",
    "        return random.choices(outcomes,weights=weights,k=1)[0]\n",
    "    else: \n",
    "        return \" \""
   ]
  },
  {
   "cell_type": "code",
   "execution_count": 82,
   "metadata": {},
   "outputs": [],
   "source": [
    "table=create_table(text)"
   ]
  },
  {
   "cell_type": "code",
   "execution_count": 83,
   "metadata": {},
   "outputs": [
    {
     "data": {
      "text/plain": [
       "{'hel': {'l': 1.0},\n",
       " 'ell': {'o': 1.0},\n",
       " 'llo': {' ': 1.0},\n",
       " 'lo ': {'h': 0.6666666666666666, 'w': 0.3333333333333333},\n",
       " 'o h': {'e': 1.0},\n",
       " ' he': {'l': 1.0},\n",
       " 'o w': {'o': 1.0},\n",
       " ' wo': {'r': 1.0},\n",
       " 'wor': {'l': 1.0},\n",
       " 'orl': {'d': 1.0},\n",
       " 'rld': {' ': 1.0},\n",
       " 'ld ': {'w': 0.6666666666666666, 'h': 0.3333333333333333},\n",
       " 'd w': {'o': 1.0},\n",
       " 'd h': {'e': 1.0}}"
      ]
     },
     "execution_count": 83,
     "metadata": {},
     "output_type": "execute_result"
    }
   ],
   "source": [
    "table"
   ]
  },
  {
   "cell_type": "code",
   "execution_count": 84,
   "metadata": {},
   "outputs": [
    {
     "data": {
      "text/plain": [
       "'l'"
      ]
     },
     "execution_count": 84,
     "metadata": {},
     "output_type": "execute_result"
    }
   ],
   "source": [
    "sampleNext(\"hel\",table)"
   ]
  },
  {
   "cell_type": "code",
   "execution_count": 85,
   "metadata": {},
   "outputs": [],
   "source": [
    "def gentext(seed,T,length=1):\n",
    "    for _ in range(length):\n",
    "        seed += sampleNext(seed,T)\n",
    "    return seed"
   ]
  },
  {
   "cell_type": "code",
   "execution_count": 63,
   "metadata": {},
   "outputs": [
    {
     "name": "stdout",
     "output_type": "stream",
     "text": [
      "hel \n"
     ]
    }
   ],
   "source": [
    "print(gentext(\"hel\",table))"
   ]
  },
  {
   "cell_type": "code",
   "execution_count": null,
   "metadata": {},
   "outputs": [],
   "source": [
    "\n"
   ]
  }
 ],
 "metadata": {
  "kernelspec": {
   "display_name": "Python 3",
   "language": "python",
   "name": "python3"
  },
  "language_info": {
   "codemirror_mode": {
    "name": "ipython",
    "version": 3
   },
   "file_extension": ".py",
   "mimetype": "text/x-python",
   "name": "python",
   "nbconvert_exporter": "python",
   "pygments_lexer": "ipython3",
   "version": "3.7.0"
  }
 },
 "nbformat": 4,
 "nbformat_minor": 2
}
